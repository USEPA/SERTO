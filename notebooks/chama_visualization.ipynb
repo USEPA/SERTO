{
 "cells": [
  {
   "cell_type": "markdown",
   "metadata": {},
   "source": [
    "- Sensors visualization on top of the SWMM model may overlaped with the plumes\n",
    "- Pipes by mean or maximum concentration\n",
    "- Visualize single plume at a time\n",
    "- Ensembles curves (ensemble scenario vs coverage metrics vs sensor counts)"
   ]
  }
 ],
 "metadata": {
  "language_info": {
   "name": "python"
  }
 },
 "nbformat": 4,
 "nbformat_minor": 2
}
